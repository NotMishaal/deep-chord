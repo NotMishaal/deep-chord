{
 "cells": [
  {
   "cell_type": "code",
   "execution_count": null,
   "id": "444a3f3d",
   "metadata": {},
   "outputs": [],
   "source": [
    "import jams"
   ]
  },
  {
   "cell_type": "code",
   "execution_count": 3,
   "id": "e710c058",
   "metadata": {},
   "outputs": [],
   "source": [
    "jam = jams.load('../data/raw/annotation/00_BN1-129-Eb_comp.jams')"
   ]
  },
  {
   "cell_type": "code",
   "execution_count": null,
   "id": "ed10dc71",
   "metadata": {},
   "outputs": [],
   "source": [
    "chord_anno = jam.search(namespace='chord')  # loads the annotations for the chord namespace"
   ]
  },
  {
   "cell_type": "code",
   "execution_count": 8,
   "id": "a4b52bbb",
   "metadata": {},
   "outputs": [
    {
     "name": "stdout",
     "output_type": "stream",
     "text": [
      "Time: 0.0, Duration: 7.441860465116279, Chord: D#:maj\n",
      "Time: 7.441860465116279, Duration: 3.72093023255814, Chord: G#:maj\n",
      "Time: 11.162790697674419, Duration: 3.720930232558139, Chord: D#:maj\n",
      "Time: 14.883720930232558, Duration: 1.8604651162790713, Chord: A#:maj\n",
      "Time: 16.74418604651163, Duration: 1.8604651162790695, Chord: G#:maj\n",
      "Time: 18.6046511627907, Duration: 3.71974883720927, Chord: D#:maj\n"
     ]
    }
   ],
   "source": [
    "if chord_anno:\n",
    "    first_anno = chord_anno[0]  # get the first annotation\n",
    "    for observation in first_anno.data:\n",
    "        # Sample: Observation(time=0.0, duration=7.441860465116279, value='D#:maj', confidence=None)\n",
    "        time = observation.time\n",
    "        duration = observation.duration\n",
    "        chord_label = observation.value\n",
    "\n",
    "        print(f\"Time: {time}, Duration: {duration}, Chord: {chord_label}\")"
   ]
  },
  {
   "cell_type": "markdown",
   "id": "07bb57ac",
   "metadata": {},
   "source": [
    "Have to look thru the total chord vocab and potentially simplify everything to maj/min triads"
   ]
  },
  {
   "cell_type": "code",
   "execution_count": null,
   "id": "2a96ccc1",
   "metadata": {},
   "outputs": [],
   "source": [
    "# TODO: Get the full chord vocabulary from the dataset"
   ]
  }
 ],
 "metadata": {
  "kernelspec": {
   "display_name": "ml-env",
   "language": "python",
   "name": "python3"
  },
  "language_info": {
   "codemirror_mode": {
    "name": "ipython",
    "version": 3
   },
   "file_extension": ".py",
   "mimetype": "text/x-python",
   "name": "python",
   "nbconvert_exporter": "python",
   "pygments_lexer": "ipython3",
   "version": "3.12.9"
  }
 },
 "nbformat": 4,
 "nbformat_minor": 5
}

{
 "cells": [
  {
   "cell_type": "code",
   "execution_count": 11,
   "id": "f773bc49",
   "metadata": {},
   "outputs": [],
   "source": [
    "import librosa\n",
    "import numpy as np"
   ]
  },
  {
   "cell_type": "code",
   "execution_count": 2,
   "id": "9e9fe8f9",
   "metadata": {},
   "outputs": [],
   "source": [
    "sample_rate = 22050 # Standard sample rate for audio processing"
   ]
  },
  {
   "cell_type": "code",
   "execution_count": 4,
   "id": "f180bc7b",
   "metadata": {},
   "outputs": [],
   "source": [
    "waveform, sampling_rate = librosa.load('../data/raw/audio_mono-mic/00_BN1-129-Eb_comp_mic.wav', sr=sample_rate)"
   ]
  },
  {
   "cell_type": "code",
   "execution_count": 6,
   "id": "ca49e80b",
   "metadata": {},
   "outputs": [
    {
     "data": {
      "text/plain": [
       "array([ 0.00961239,  0.01408114,  0.01233458, ..., -0.00337073,\n",
       "       -0.00298359, -0.00296082], shape=(492253,), dtype=float32)"
      ]
     },
     "execution_count": 6,
     "metadata": {},
     "output_type": "execute_result"
    }
   ],
   "source": [
    "waveform"
   ]
  },
  {
   "cell_type": "code",
   "execution_count": 5,
   "id": "7f1d4b2a",
   "metadata": {},
   "outputs": [
    {
     "data": {
      "text/plain": [
       "22050"
      ]
     },
     "execution_count": 5,
     "metadata": {},
     "output_type": "execute_result"
    }
   ],
   "source": [
    "sampling_rate"
   ]
  },
  {
   "cell_type": "code",
   "execution_count": 8,
   "id": "12ba3d21",
   "metadata": {},
   "outputs": [
    {
     "name": "stdout",
     "output_type": "stream",
     "text": [
      "Waveform shape: (492253,)\n"
     ]
    }
   ],
   "source": [
    "print(f\"Waveform shape: {waveform.shape}\")"
   ]
  },
  {
   "cell_type": "code",
   "execution_count": 10,
   "id": "a6c7ce14",
   "metadata": {},
   "outputs": [
    {
     "name": "stdout",
     "output_type": "stream",
     "text": [
      "Duration (seconds): 22.32439909297052\n"
     ]
    }
   ],
   "source": [
    "print(f\"Duration (seconds): {waveform.shape[0] / sampling_rate}\")"
   ]
  },
  {
   "cell_type": "code",
   "execution_count": null,
   "id": "031fa938",
   "metadata": {},
   "outputs": [],
   "source": [
    "# if we make the frame size equal to the sampling rate, then each frame is 1 second long\n",
    "frame_size = sampling_rate\n",
    "hop_length = frame_size // 2  # the distance between consecutive windows when processing a signal"
   ]
  }
 ],
 "metadata": {
  "kernelspec": {
   "display_name": "ml-env",
   "language": "python",
   "name": "python3"
  },
  "language_info": {
   "codemirror_mode": {
    "name": "ipython",
    "version": 3
   },
   "file_extension": ".py",
   "mimetype": "text/x-python",
   "name": "python",
   "nbconvert_exporter": "python",
   "pygments_lexer": "ipython3",
   "version": "3.12.9"
  }
 },
 "nbformat": 4,
 "nbformat_minor": 5
}
